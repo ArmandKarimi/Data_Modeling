{
 "cells": [
  {
   "cell_type": "code",
   "execution_count": 1,
   "id": "661c9082-6e7a-4b79-ac22-b8794f8728fa",
   "metadata": {},
   "outputs": [],
   "source": [
    "%reset -f"
   ]
  },
  {
   "cell_type": "code",
   "execution_count": 2,
   "id": "f746c373-5dff-4319-a350-bdb497589423",
   "metadata": {},
   "outputs": [
    {
     "name": "stdout",
     "output_type": "stream",
     "text": [
      "['economies.csv', 'countries.csv', 'cities.csv', 'populations.csv', 'languages.csv', 'currencies.csv']\n"
     ]
    }
   ],
   "source": [
    "import os\n",
    "import pandas as pd\n",
    "\n",
    "# Go up one level and into 'data'\n",
    "data_path = os.path.join('..', 'data')\n",
    "print(os.listdir(data_path))"
   ]
  },
  {
   "cell_type": "markdown",
   "id": "1391ab67-b09e-40fc-9714-3d704b2f7977",
   "metadata": {},
   "source": [
    "## Countries"
   ]
  },
  {
   "cell_type": "markdown",
   "id": "07882b4d-81fa-4c32-9d15-f734517dbac3",
   "metadata": {},
   "source": [
    "Primary keys need to be defined on columns that don't accept duplicate or null values. Also, primary key constraints are time-invariant!\n",
    "\n",
    "So i think ***code*** which is country_code can be primary key in here."
   ]
  },
  {
   "cell_type": "code",
   "execution_count": 3,
   "id": "b2141ee8-3908-40c1-8645-3b173ea135e9",
   "metadata": {},
   "outputs": [],
   "source": [
    "df_countries = pd.read_csv(\"../data/countries.csv\")"
   ]
  },
  {
   "cell_type": "code",
   "execution_count": 5,
   "id": "0891b3d3-a032-411c-a35c-a3b3e9902902",
   "metadata": {},
   "outputs": [
    {
     "data": {
      "text/html": [
       "<div>\n",
       "<style scoped>\n",
       "    .dataframe tbody tr th:only-of-type {\n",
       "        vertical-align: middle;\n",
       "    }\n",
       "\n",
       "    .dataframe tbody tr th {\n",
       "        vertical-align: top;\n",
       "    }\n",
       "\n",
       "    .dataframe thead th {\n",
       "        text-align: right;\n",
       "    }\n",
       "</style>\n",
       "<table border=\"1\" class=\"dataframe\">\n",
       "  <thead>\n",
       "    <tr style=\"text-align: right;\">\n",
       "      <th></th>\n",
       "      <th>code</th>\n",
       "      <th>country_name</th>\n",
       "      <th>continent</th>\n",
       "      <th>region</th>\n",
       "      <th>surface_area</th>\n",
       "      <th>indep_year</th>\n",
       "      <th>local_name</th>\n",
       "      <th>gov_form</th>\n",
       "      <th>capital</th>\n",
       "      <th>cap_long</th>\n",
       "      <th>cap_lat</th>\n",
       "    </tr>\n",
       "  </thead>\n",
       "  <tbody>\n",
       "    <tr>\n",
       "      <th>0</th>\n",
       "      <td>AFG</td>\n",
       "      <td>Afghanistan</td>\n",
       "      <td>Asia</td>\n",
       "      <td>Southern and Central Asia</td>\n",
       "      <td>652090.0</td>\n",
       "      <td>1919.0</td>\n",
       "      <td>Afganistan/Afqanestan</td>\n",
       "      <td>Islamic Emirate</td>\n",
       "      <td>Kabul</td>\n",
       "      <td>69.17610</td>\n",
       "      <td>34.5228</td>\n",
       "    </tr>\n",
       "    <tr>\n",
       "      <th>1</th>\n",
       "      <td>NLD</td>\n",
       "      <td>Netherlands</td>\n",
       "      <td>Europe</td>\n",
       "      <td>Western Europe</td>\n",
       "      <td>41526.0</td>\n",
       "      <td>1581.0</td>\n",
       "      <td>Nederland</td>\n",
       "      <td>Constitutional Monarchy</td>\n",
       "      <td>Amsterdam</td>\n",
       "      <td>4.89095</td>\n",
       "      <td>52.3738</td>\n",
       "    </tr>\n",
       "    <tr>\n",
       "      <th>2</th>\n",
       "      <td>ALB</td>\n",
       "      <td>Albania</td>\n",
       "      <td>Europe</td>\n",
       "      <td>Southern Europe</td>\n",
       "      <td>28748.0</td>\n",
       "      <td>1912.0</td>\n",
       "      <td>Shqiperia</td>\n",
       "      <td>Republic</td>\n",
       "      <td>Tirane</td>\n",
       "      <td>19.81720</td>\n",
       "      <td>41.3317</td>\n",
       "    </tr>\n",
       "  </tbody>\n",
       "</table>\n",
       "</div>"
      ],
      "text/plain": [
       "  code country_name continent                     region  surface_area  \\\n",
       "0  AFG  Afghanistan      Asia  Southern and Central Asia      652090.0   \n",
       "1  NLD  Netherlands    Europe             Western Europe       41526.0   \n",
       "2  ALB      Albania    Europe            Southern Europe       28748.0   \n",
       "\n",
       "   indep_year             local_name                 gov_form    capital  \\\n",
       "0      1919.0  Afganistan/Afqanestan          Islamic Emirate      Kabul   \n",
       "1      1581.0              Nederland  Constitutional Monarchy  Amsterdam   \n",
       "2      1912.0              Shqiperia                 Republic     Tirane   \n",
       "\n",
       "   cap_long  cap_lat  \n",
       "0  69.17610  34.5228  \n",
       "1   4.89095  52.3738  \n",
       "2  19.81720  41.3317  "
      ]
     },
     "execution_count": 5,
     "metadata": {},
     "output_type": "execute_result"
    }
   ],
   "source": [
    "df_countries.head(3)"
   ]
  },
  {
   "cell_type": "code",
   "execution_count": 6,
   "id": "7fe16a8c-0565-4d03-8860-721f3755fe1a",
   "metadata": {},
   "outputs": [
    {
     "name": "stdout",
     "output_type": "stream",
     "text": [
      "<class 'pandas.core.frame.DataFrame'>\n",
      "RangeIndex: 205 entries, 0 to 204\n",
      "Data columns (total 11 columns):\n",
      " #   Column        Non-Null Count  Dtype  \n",
      "---  ------        --------------  -----  \n",
      " 0   code          205 non-null    object \n",
      " 1   country_name  205 non-null    object \n",
      " 2   continent     205 non-null    object \n",
      " 3   region        205 non-null    object \n",
      " 4   surface_area  205 non-null    float64\n",
      " 5   indep_year    188 non-null    float64\n",
      " 6   local_name    205 non-null    object \n",
      " 7   gov_form      205 non-null    object \n",
      " 8   capital       201 non-null    object \n",
      " 9   cap_long      203 non-null    float64\n",
      " 10  cap_lat       203 non-null    float64\n",
      "dtypes: float64(4), object(7)\n",
      "memory usage: 17.7+ KB\n"
     ]
    }
   ],
   "source": [
    "df_countries.info()"
   ]
  },
  {
   "cell_type": "code",
   "execution_count": 16,
   "id": "ce3ad1cb-d02f-4d4c-b17e-4084880a4483",
   "metadata": {},
   "outputs": [
    {
     "data": {
      "text/plain": [
       "0"
      ]
     },
     "execution_count": 16,
     "metadata": {},
     "output_type": "execute_result"
    }
   ],
   "source": [
    "df_countries['code'].duplicated().sum()"
   ]
  },
  {
   "cell_type": "markdown",
   "id": "c4b2f577-e5d4-42c1-9acc-9e657095fb30",
   "metadata": {},
   "source": [
    "## Economy"
   ]
  },
  {
   "cell_type": "markdown",
   "id": "c7c8b61a-1247-49f7-a7ac-cb6140be3403",
   "metadata": {},
   "source": [
    "For primary keys, duplicates and \"NULL\" values are allowed!\n",
    "So here I think ***(code, year)*** is the Primary key and 'code' is the foreign key!"
   ]
  },
  {
   "cell_type": "code",
   "execution_count": 23,
   "id": "24fd0d06-c1ee-4243-abf4-6676e9e8a4a2",
   "metadata": {},
   "outputs": [],
   "source": [
    "df_economies = pd.read_csv(\"../data/economies.csv\")"
   ]
  },
  {
   "cell_type": "code",
   "execution_count": 24,
   "id": "74b27309-0b4f-4bed-b6a8-56e87bc18a0e",
   "metadata": {},
   "outputs": [
    {
     "data": {
      "text/html": [
       "<div>\n",
       "<style scoped>\n",
       "    .dataframe tbody tr th:only-of-type {\n",
       "        vertical-align: middle;\n",
       "    }\n",
       "\n",
       "    .dataframe tbody tr th {\n",
       "        vertical-align: top;\n",
       "    }\n",
       "\n",
       "    .dataframe thead th {\n",
       "        text-align: right;\n",
       "    }\n",
       "</style>\n",
       "<table border=\"1\" class=\"dataframe\">\n",
       "  <thead>\n",
       "    <tr style=\"text-align: right;\">\n",
       "      <th></th>\n",
       "      <th>econ_id</th>\n",
       "      <th>code</th>\n",
       "      <th>year</th>\n",
       "      <th>income_group</th>\n",
       "      <th>gdp_percapita</th>\n",
       "      <th>gross_savings</th>\n",
       "      <th>inflation_rate</th>\n",
       "      <th>total_investment</th>\n",
       "      <th>unemployment_rate</th>\n",
       "      <th>exports</th>\n",
       "      <th>imports</th>\n",
       "    </tr>\n",
       "  </thead>\n",
       "  <tbody>\n",
       "    <tr>\n",
       "      <th>0</th>\n",
       "      <td>1</td>\n",
       "      <td>AFG</td>\n",
       "      <td>2010</td>\n",
       "      <td>Low income</td>\n",
       "      <td>539.667</td>\n",
       "      <td>37.133</td>\n",
       "      <td>2.179</td>\n",
       "      <td>30.402</td>\n",
       "      <td>NaN</td>\n",
       "      <td>46.394</td>\n",
       "      <td>24.381</td>\n",
       "    </tr>\n",
       "    <tr>\n",
       "      <th>1</th>\n",
       "      <td>2</td>\n",
       "      <td>AFG</td>\n",
       "      <td>2015</td>\n",
       "      <td>Low income</td>\n",
       "      <td>615.091</td>\n",
       "      <td>21.466</td>\n",
       "      <td>-1.549</td>\n",
       "      <td>18.602</td>\n",
       "      <td>NaN</td>\n",
       "      <td>-49.110</td>\n",
       "      <td>-7.294</td>\n",
       "    </tr>\n",
       "    <tr>\n",
       "      <th>2</th>\n",
       "      <td>3</td>\n",
       "      <td>AGO</td>\n",
       "      <td>2010</td>\n",
       "      <td>Upper middle income</td>\n",
       "      <td>3599.270</td>\n",
       "      <td>23.534</td>\n",
       "      <td>14.480</td>\n",
       "      <td>14.433</td>\n",
       "      <td>NaN</td>\n",
       "      <td>-3.266</td>\n",
       "      <td>-21.076</td>\n",
       "    </tr>\n",
       "    <tr>\n",
       "      <th>3</th>\n",
       "      <td>4</td>\n",
       "      <td>AGO</td>\n",
       "      <td>2015</td>\n",
       "      <td>Upper middle income</td>\n",
       "      <td>3876.200</td>\n",
       "      <td>-0.425</td>\n",
       "      <td>10.287</td>\n",
       "      <td>9.552</td>\n",
       "      <td>NaN</td>\n",
       "      <td>6.721</td>\n",
       "      <td>-21.778</td>\n",
       "    </tr>\n",
       "    <tr>\n",
       "      <th>4</th>\n",
       "      <td>5</td>\n",
       "      <td>ALB</td>\n",
       "      <td>2010</td>\n",
       "      <td>Upper middle income</td>\n",
       "      <td>4098.130</td>\n",
       "      <td>20.011</td>\n",
       "      <td>3.605</td>\n",
       "      <td>31.305</td>\n",
       "      <td>14.0</td>\n",
       "      <td>10.645</td>\n",
       "      <td>-8.013</td>\n",
       "    </tr>\n",
       "  </tbody>\n",
       "</table>\n",
       "</div>"
      ],
      "text/plain": [
       "   econ_id code  year         income_group  gdp_percapita  gross_savings  \\\n",
       "0        1  AFG  2010           Low income        539.667         37.133   \n",
       "1        2  AFG  2015           Low income        615.091         21.466   \n",
       "2        3  AGO  2010  Upper middle income       3599.270         23.534   \n",
       "3        4  AGO  2015  Upper middle income       3876.200         -0.425   \n",
       "4        5  ALB  2010  Upper middle income       4098.130         20.011   \n",
       "\n",
       "   inflation_rate  total_investment  unemployment_rate  exports  imports  \n",
       "0           2.179            30.402                NaN   46.394   24.381  \n",
       "1          -1.549            18.602                NaN  -49.110   -7.294  \n",
       "2          14.480            14.433                NaN   -3.266  -21.076  \n",
       "3          10.287             9.552                NaN    6.721  -21.778  \n",
       "4           3.605            31.305               14.0   10.645   -8.013  "
      ]
     },
     "execution_count": 24,
     "metadata": {},
     "output_type": "execute_result"
    }
   ],
   "source": [
    "df_economies.head()"
   ]
  },
  {
   "cell_type": "code",
   "execution_count": 25,
   "id": "0820ad41-9fee-4c0a-a580-954ff40c525e",
   "metadata": {},
   "outputs": [
    {
     "name": "stdout",
     "output_type": "stream",
     "text": [
      "<class 'pandas.core.frame.DataFrame'>\n",
      "RangeIndex: 380 entries, 0 to 379\n",
      "Data columns (total 11 columns):\n",
      " #   Column             Non-Null Count  Dtype  \n",
      "---  ------             --------------  -----  \n",
      " 0   econ_id            380 non-null    int64  \n",
      " 1   code               380 non-null    object \n",
      " 2   year               380 non-null    int64  \n",
      " 3   income_group       380 non-null    object \n",
      " 4   gdp_percapita      378 non-null    float64\n",
      " 5   gross_savings      338 non-null    float64\n",
      " 6   inflation_rate     377 non-null    float64\n",
      " 7   total_investment   344 non-null    float64\n",
      " 8   unemployment_rate  217 non-null    float64\n",
      " 9   exports            351 non-null    float64\n",
      " 10  imports            349 non-null    float64\n",
      "dtypes: float64(7), int64(2), object(2)\n",
      "memory usage: 32.8+ KB\n"
     ]
    }
   ],
   "source": [
    "df_economies.info()"
   ]
  },
  {
   "cell_type": "code",
   "execution_count": 26,
   "id": "ba852de4-eba6-4965-b248-2e94b6eacfa3",
   "metadata": {},
   "outputs": [
    {
     "data": {
      "text/plain": [
       "190"
      ]
     },
     "execution_count": 26,
     "metadata": {},
     "output_type": "execute_result"
    }
   ],
   "source": [
    "df_economies['code'].duplicated().sum()"
   ]
  },
  {
   "cell_type": "markdown",
   "id": "38a830d4-3d4d-45a5-99cf-dbf5008bbef4",
   "metadata": {},
   "source": [
    "## CITIES"
   ]
  },
  {
   "cell_type": "code",
   "execution_count": 27,
   "id": "552ac10e-6095-4046-adbd-6749b7ec36c8",
   "metadata": {},
   "outputs": [
    {
     "data": {
      "text/html": [
       "<div>\n",
       "<style scoped>\n",
       "    .dataframe tbody tr th:only-of-type {\n",
       "        vertical-align: middle;\n",
       "    }\n",
       "\n",
       "    .dataframe tbody tr th {\n",
       "        vertical-align: top;\n",
       "    }\n",
       "\n",
       "    .dataframe thead th {\n",
       "        text-align: right;\n",
       "    }\n",
       "</style>\n",
       "<table border=\"1\" class=\"dataframe\">\n",
       "  <thead>\n",
       "    <tr style=\"text-align: right;\">\n",
       "      <th></th>\n",
       "      <th>name</th>\n",
       "      <th>country_code</th>\n",
       "      <th>city_proper_pop</th>\n",
       "      <th>metroarea_pop</th>\n",
       "      <th>urbanarea_pop</th>\n",
       "    </tr>\n",
       "  </thead>\n",
       "  <tbody>\n",
       "    <tr>\n",
       "      <th>0</th>\n",
       "      <td>Abidjan</td>\n",
       "      <td>CIV</td>\n",
       "      <td>4765000</td>\n",
       "      <td>NaN</td>\n",
       "      <td>4765000</td>\n",
       "    </tr>\n",
       "    <tr>\n",
       "      <th>1</th>\n",
       "      <td>Abu Dhabi</td>\n",
       "      <td>ARE</td>\n",
       "      <td>1145000</td>\n",
       "      <td>NaN</td>\n",
       "      <td>1145000</td>\n",
       "    </tr>\n",
       "    <tr>\n",
       "      <th>2</th>\n",
       "      <td>Abuja</td>\n",
       "      <td>NGA</td>\n",
       "      <td>1235880</td>\n",
       "      <td>6000000.0</td>\n",
       "      <td>1235880</td>\n",
       "    </tr>\n",
       "    <tr>\n",
       "      <th>3</th>\n",
       "      <td>Accra</td>\n",
       "      <td>GHA</td>\n",
       "      <td>2070463</td>\n",
       "      <td>4010054.0</td>\n",
       "      <td>2070463</td>\n",
       "    </tr>\n",
       "    <tr>\n",
       "      <th>4</th>\n",
       "      <td>Addis Ababa</td>\n",
       "      <td>ETH</td>\n",
       "      <td>3103673</td>\n",
       "      <td>4567857.0</td>\n",
       "      <td>3103673</td>\n",
       "    </tr>\n",
       "  </tbody>\n",
       "</table>\n",
       "</div>"
      ],
      "text/plain": [
       "          name country_code  city_proper_pop  metroarea_pop  urbanarea_pop\n",
       "0      Abidjan          CIV          4765000            NaN        4765000\n",
       "1    Abu Dhabi          ARE          1145000            NaN        1145000\n",
       "2        Abuja          NGA          1235880      6000000.0        1235880\n",
       "3        Accra          GHA          2070463      4010054.0        2070463\n",
       "4  Addis Ababa          ETH          3103673      4567857.0        3103673"
      ]
     },
     "execution_count": 27,
     "metadata": {},
     "output_type": "execute_result"
    }
   ],
   "source": [
    "df_cities = pd.read_csv(\"../data/cities.csv\")\n",
    "\n",
    "df_cities.head()"
   ]
  },
  {
   "cell_type": "code",
   "execution_count": 28,
   "id": "092654b3-71c7-4b94-a6ef-209473da703b",
   "metadata": {},
   "outputs": [
    {
     "name": "stdout",
     "output_type": "stream",
     "text": [
      "<class 'pandas.core.frame.DataFrame'>\n",
      "RangeIndex: 236 entries, 0 to 235\n",
      "Data columns (total 5 columns):\n",
      " #   Column           Non-Null Count  Dtype  \n",
      "---  ------           --------------  -----  \n",
      " 0   name             236 non-null    object \n",
      " 1   country_code     236 non-null    object \n",
      " 2   city_proper_pop  236 non-null    int64  \n",
      " 3   metroarea_pop    137 non-null    float64\n",
      " 4   urbanarea_pop    236 non-null    int64  \n",
      "dtypes: float64(1), int64(2), object(2)\n",
      "memory usage: 9.3+ KB\n"
     ]
    }
   ],
   "source": [
    "df_cities.info()"
   ]
  },
  {
   "cell_type": "code",
   "execution_count": 33,
   "id": "c589de93-7313-4839-aa00-a47587341b6f",
   "metadata": {},
   "outputs": [
    {
     "data": {
      "text/plain": [
       "0"
      ]
     },
     "execution_count": 33,
     "metadata": {},
     "output_type": "execute_result"
    }
   ],
   "source": [
    "df_cities[['name', 'country_code']].duplicated().sum()"
   ]
  },
  {
   "cell_type": "code",
   "execution_count": 34,
   "id": "e75ac886-c5bc-4f68-b9a4-a046ddfd544c",
   "metadata": {},
   "outputs": [
    {
     "data": {
      "text/plain": [
       "0"
      ]
     },
     "execution_count": 34,
     "metadata": {},
     "output_type": "execute_result"
    }
   ],
   "source": [
    "df_cities['name'].duplicated().sum()"
   ]
  },
  {
   "cell_type": "markdown",
   "id": "f503bc69-f059-45a0-9e37-221e3f4f4c3a",
   "metadata": {},
   "source": [
    "## Population"
   ]
  },
  {
   "cell_type": "markdown",
   "id": "76c89197-b0ee-468f-8796-931592aae528",
   "metadata": {},
   "source": [
    "PRIMARY KEY (country_code, year)"
   ]
  },
  {
   "cell_type": "code",
   "execution_count": 35,
   "id": "ce6191f9-7c2a-4370-be60-6a284d28cf1d",
   "metadata": {},
   "outputs": [],
   "source": [
    "df_population = pd.read_csv('../data/populations.csv')"
   ]
  },
  {
   "cell_type": "code",
   "execution_count": 36,
   "id": "e6462ed0-d203-4d4a-a6c8-1ff958cf8115",
   "metadata": {},
   "outputs": [
    {
     "data": {
      "text/html": [
       "<div>\n",
       "<style scoped>\n",
       "    .dataframe tbody tr th:only-of-type {\n",
       "        vertical-align: middle;\n",
       "    }\n",
       "\n",
       "    .dataframe tbody tr th {\n",
       "        vertical-align: top;\n",
       "    }\n",
       "\n",
       "    .dataframe thead th {\n",
       "        text-align: right;\n",
       "    }\n",
       "</style>\n",
       "<table border=\"1\" class=\"dataframe\">\n",
       "  <thead>\n",
       "    <tr style=\"text-align: right;\">\n",
       "      <th></th>\n",
       "      <th>pop_id</th>\n",
       "      <th>country_code</th>\n",
       "      <th>year</th>\n",
       "      <th>fertility_rate</th>\n",
       "      <th>life_expectancy</th>\n",
       "      <th>size</th>\n",
       "    </tr>\n",
       "  </thead>\n",
       "  <tbody>\n",
       "    <tr>\n",
       "      <th>0</th>\n",
       "      <td>20</td>\n",
       "      <td>ABW</td>\n",
       "      <td>2010</td>\n",
       "      <td>1.704</td>\n",
       "      <td>74.953537</td>\n",
       "      <td>101597.0</td>\n",
       "    </tr>\n",
       "    <tr>\n",
       "      <th>1</th>\n",
       "      <td>19</td>\n",
       "      <td>ABW</td>\n",
       "      <td>2015</td>\n",
       "      <td>1.647</td>\n",
       "      <td>75.573585</td>\n",
       "      <td>103889.0</td>\n",
       "    </tr>\n",
       "    <tr>\n",
       "      <th>2</th>\n",
       "      <td>2</td>\n",
       "      <td>AFG</td>\n",
       "      <td>2010</td>\n",
       "      <td>5.746</td>\n",
       "      <td>58.970829</td>\n",
       "      <td>27962207.0</td>\n",
       "    </tr>\n",
       "    <tr>\n",
       "      <th>3</th>\n",
       "      <td>1</td>\n",
       "      <td>AFG</td>\n",
       "      <td>2015</td>\n",
       "      <td>4.653</td>\n",
       "      <td>60.717171</td>\n",
       "      <td>32526562.0</td>\n",
       "    </tr>\n",
       "    <tr>\n",
       "      <th>4</th>\n",
       "      <td>12</td>\n",
       "      <td>AGO</td>\n",
       "      <td>2010</td>\n",
       "      <td>6.416</td>\n",
       "      <td>50.654171</td>\n",
       "      <td>21219954.0</td>\n",
       "    </tr>\n",
       "  </tbody>\n",
       "</table>\n",
       "</div>"
      ],
      "text/plain": [
       "   pop_id country_code  year  fertility_rate  life_expectancy        size\n",
       "0      20          ABW  2010           1.704        74.953537    101597.0\n",
       "1      19          ABW  2015           1.647        75.573585    103889.0\n",
       "2       2          AFG  2010           5.746        58.970829  27962207.0\n",
       "3       1          AFG  2015           4.653        60.717171  32526562.0\n",
       "4      12          AGO  2010           6.416        50.654171  21219954.0"
      ]
     },
     "execution_count": 36,
     "metadata": {},
     "output_type": "execute_result"
    }
   ],
   "source": [
    "df_population.head()"
   ]
  },
  {
   "cell_type": "code",
   "execution_count": 73,
   "id": "a4c50470-1707-4ca4-9d73-e1d82976d336",
   "metadata": {},
   "outputs": [
    {
     "name": "stdout",
     "output_type": "stream",
     "text": [
      "<class 'pandas.core.frame.DataFrame'>\n",
      "Index: 434 entries, 20 to 432\n",
      "Data columns (total 5 columns):\n",
      " #   Column           Non-Null Count  Dtype  \n",
      "---  ------           --------------  -----  \n",
      " 0   country_code     434 non-null    object \n",
      " 1   year             434 non-null    int64  \n",
      " 2   fertility_rate   402 non-null    float64\n",
      " 3   life_expectancy  398 non-null    float64\n",
      " 4   size             433 non-null    float64\n",
      "dtypes: float64(3), int64(1), object(1)\n",
      "memory usage: 20.3+ KB\n"
     ]
    }
   ],
   "source": [
    "df_population.info()"
   ]
  },
  {
   "cell_type": "markdown",
   "id": "893f42ac-7064-4d38-bdf7-b5276c62e662",
   "metadata": {},
   "source": [
    "## Language"
   ]
  },
  {
   "cell_type": "markdown",
   "id": "cfd3508c-b663-4f57-8580-3546e2362dfc",
   "metadata": {},
   "source": [
    "PRIMARY (code, name)"
   ]
  },
  {
   "cell_type": "code",
   "execution_count": 37,
   "id": "8e146a52-b4fd-42dc-9ea4-fc36b7e5f9f5",
   "metadata": {},
   "outputs": [],
   "source": [
    "df_lang = pd.read_csv(\"../data/languages.csv\")"
   ]
  },
  {
   "cell_type": "code",
   "execution_count": 38,
   "id": "51b51c65-d326-47c1-85c6-d7622c220e78",
   "metadata": {},
   "outputs": [
    {
     "data": {
      "text/html": [
       "<div>\n",
       "<style scoped>\n",
       "    .dataframe tbody tr th:only-of-type {\n",
       "        vertical-align: middle;\n",
       "    }\n",
       "\n",
       "    .dataframe tbody tr th {\n",
       "        vertical-align: top;\n",
       "    }\n",
       "\n",
       "    .dataframe thead th {\n",
       "        text-align: right;\n",
       "    }\n",
       "</style>\n",
       "<table border=\"1\" class=\"dataframe\">\n",
       "  <thead>\n",
       "    <tr style=\"text-align: right;\">\n",
       "      <th></th>\n",
       "      <th>lang_id</th>\n",
       "      <th>code</th>\n",
       "      <th>name</th>\n",
       "      <th>percent</th>\n",
       "      <th>official</th>\n",
       "    </tr>\n",
       "  </thead>\n",
       "  <tbody>\n",
       "    <tr>\n",
       "      <th>0</th>\n",
       "      <td>1</td>\n",
       "      <td>AFG</td>\n",
       "      <td>Dari</td>\n",
       "      <td>50.0</td>\n",
       "      <td>True</td>\n",
       "    </tr>\n",
       "    <tr>\n",
       "      <th>1</th>\n",
       "      <td>2</td>\n",
       "      <td>AFG</td>\n",
       "      <td>Pashto</td>\n",
       "      <td>35.0</td>\n",
       "      <td>True</td>\n",
       "    </tr>\n",
       "    <tr>\n",
       "      <th>2</th>\n",
       "      <td>3</td>\n",
       "      <td>AFG</td>\n",
       "      <td>Turkic</td>\n",
       "      <td>11.0</td>\n",
       "      <td>False</td>\n",
       "    </tr>\n",
       "    <tr>\n",
       "      <th>3</th>\n",
       "      <td>4</td>\n",
       "      <td>AFG</td>\n",
       "      <td>Other</td>\n",
       "      <td>4.0</td>\n",
       "      <td>False</td>\n",
       "    </tr>\n",
       "    <tr>\n",
       "      <th>4</th>\n",
       "      <td>5</td>\n",
       "      <td>ALB</td>\n",
       "      <td>Albanian</td>\n",
       "      <td>98.8</td>\n",
       "      <td>True</td>\n",
       "    </tr>\n",
       "  </tbody>\n",
       "</table>\n",
       "</div>"
      ],
      "text/plain": [
       "   lang_id code      name  percent  official\n",
       "0        1  AFG      Dari     50.0      True\n",
       "1        2  AFG    Pashto     35.0      True\n",
       "2        3  AFG    Turkic     11.0     False\n",
       "3        4  AFG     Other      4.0     False\n",
       "4        5  ALB  Albanian     98.8      True"
      ]
     },
     "execution_count": 38,
     "metadata": {},
     "output_type": "execute_result"
    }
   ],
   "source": [
    "df_lang.head()"
   ]
  },
  {
   "cell_type": "code",
   "execution_count": 39,
   "id": "1c34da3f-3284-4669-a0b2-96c8d8aa6e03",
   "metadata": {},
   "outputs": [
    {
     "name": "stdout",
     "output_type": "stream",
     "text": [
      "<class 'pandas.core.frame.DataFrame'>\n",
      "RangeIndex: 955 entries, 0 to 954\n",
      "Data columns (total 5 columns):\n",
      " #   Column    Non-Null Count  Dtype  \n",
      "---  ------    --------------  -----  \n",
      " 0   lang_id   955 non-null    int64  \n",
      " 1   code      955 non-null    object \n",
      " 2   name      955 non-null    object \n",
      " 3   percent   518 non-null    float64\n",
      " 4   official  955 non-null    bool   \n",
      "dtypes: bool(1), float64(1), int64(1), object(2)\n",
      "memory usage: 30.9+ KB\n"
     ]
    }
   ],
   "source": [
    "df_lang.info()"
   ]
  },
  {
   "cell_type": "markdown",
   "id": "48e2ebfa-4aed-4343-8dc1-f32497b5b478",
   "metadata": {},
   "source": [
    "## Currency"
   ]
  },
  {
   "cell_type": "markdown",
   "id": "f043f696-4a79-4973-9ba2-061a45325719",
   "metadata": {},
   "source": [
    "PRIMARY KEY (code, curr_code)"
   ]
  },
  {
   "cell_type": "code",
   "execution_count": 40,
   "id": "d19541df-0acf-44d9-ad23-25b9d6eed78a",
   "metadata": {},
   "outputs": [],
   "source": [
    "df_cur = pd.read_csv(\"../data/currencies.csv\")"
   ]
  },
  {
   "cell_type": "code",
   "execution_count": 41,
   "id": "7ddec09c-3443-42d3-93f6-0058c2747731",
   "metadata": {},
   "outputs": [
    {
     "data": {
      "text/html": [
       "<div>\n",
       "<style scoped>\n",
       "    .dataframe tbody tr th:only-of-type {\n",
       "        vertical-align: middle;\n",
       "    }\n",
       "\n",
       "    .dataframe tbody tr th {\n",
       "        vertical-align: top;\n",
       "    }\n",
       "\n",
       "    .dataframe thead th {\n",
       "        text-align: right;\n",
       "    }\n",
       "</style>\n",
       "<table border=\"1\" class=\"dataframe\">\n",
       "  <thead>\n",
       "    <tr style=\"text-align: right;\">\n",
       "      <th></th>\n",
       "      <th>curr_id</th>\n",
       "      <th>code</th>\n",
       "      <th>basic_unit</th>\n",
       "      <th>curr_code</th>\n",
       "      <th>frac_unit</th>\n",
       "      <th>frac_perbasic</th>\n",
       "    </tr>\n",
       "  </thead>\n",
       "  <tbody>\n",
       "    <tr>\n",
       "      <th>0</th>\n",
       "      <td>1</td>\n",
       "      <td>AFG</td>\n",
       "      <td>Afghan afghani</td>\n",
       "      <td>AFN</td>\n",
       "      <td>Pul</td>\n",
       "      <td>100.0</td>\n",
       "    </tr>\n",
       "    <tr>\n",
       "      <th>1</th>\n",
       "      <td>2</td>\n",
       "      <td>ALB</td>\n",
       "      <td>Albanian lek</td>\n",
       "      <td>ALL</td>\n",
       "      <td>Qindarke</td>\n",
       "      <td>100.0</td>\n",
       "    </tr>\n",
       "    <tr>\n",
       "      <th>2</th>\n",
       "      <td>3</td>\n",
       "      <td>DZA</td>\n",
       "      <td>Algerian dinar</td>\n",
       "      <td>DZD</td>\n",
       "      <td>Santeem</td>\n",
       "      <td>100.0</td>\n",
       "    </tr>\n",
       "    <tr>\n",
       "      <th>3</th>\n",
       "      <td>4</td>\n",
       "      <td>AND</td>\n",
       "      <td>Euro</td>\n",
       "      <td>EUR</td>\n",
       "      <td>Cent</td>\n",
       "      <td>100.0</td>\n",
       "    </tr>\n",
       "    <tr>\n",
       "      <th>4</th>\n",
       "      <td>5</td>\n",
       "      <td>AGO</td>\n",
       "      <td>Angolan kwanza</td>\n",
       "      <td>AOA</td>\n",
       "      <td>Centimo</td>\n",
       "      <td>100.0</td>\n",
       "    </tr>\n",
       "  </tbody>\n",
       "</table>\n",
       "</div>"
      ],
      "text/plain": [
       "   curr_id code      basic_unit curr_code frac_unit  frac_perbasic\n",
       "0        1  AFG  Afghan afghani       AFN       Pul          100.0\n",
       "1        2  ALB    Albanian lek       ALL  Qindarke          100.0\n",
       "2        3  DZA  Algerian dinar       DZD   Santeem          100.0\n",
       "3        4  AND            Euro       EUR      Cent          100.0\n",
       "4        5  AGO  Angolan kwanza       AOA   Centimo          100.0"
      ]
     },
     "execution_count": 41,
     "metadata": {},
     "output_type": "execute_result"
    }
   ],
   "source": [
    "df_cur.head()"
   ]
  },
  {
   "cell_type": "code",
   "execution_count": 42,
   "id": "835bc1f5-6151-4696-88a8-97ea7c261a3e",
   "metadata": {},
   "outputs": [
    {
     "name": "stdout",
     "output_type": "stream",
     "text": [
      "<class 'pandas.core.frame.DataFrame'>\n",
      "RangeIndex: 224 entries, 0 to 223\n",
      "Data columns (total 6 columns):\n",
      " #   Column         Non-Null Count  Dtype  \n",
      "---  ------         --------------  -----  \n",
      " 0   curr_id        224 non-null    int64  \n",
      " 1   code           224 non-null    object \n",
      " 2   basic_unit     224 non-null    object \n",
      " 3   curr_code      224 non-null    object \n",
      " 4   frac_unit      223 non-null    object \n",
      " 5   frac_perbasic  223 non-null    float64\n",
      "dtypes: float64(1), int64(1), object(4)\n",
      "memory usage: 10.6+ KB\n"
     ]
    }
   ],
   "source": [
    "df_cur.info()"
   ]
  },
  {
   "cell_type": "code",
   "execution_count": 45,
   "id": "2fd6c58d-340f-4bc6-9904-326f249c06d6",
   "metadata": {},
   "outputs": [
    {
     "data": {
      "text/plain": [
       "17     BLR\n",
       "23     BTN\n",
       "30     BRN\n",
       "35     KHM\n",
       "54     CUB\n",
       "111    LSO\n",
       "135    NAM\n",
       "150    PSE\n",
       "152    PAN\n",
       "174    SGP\n",
       "201    TUV\n",
       "204    UKR\n",
       "217    ZWE\n",
       "218    ZWE\n",
       "219    ZWE\n",
       "220    ZWE\n",
       "221    ZWE\n",
       "222    ZWE\n",
       "223    ZWE\n",
       "Name: code, dtype: object"
      ]
     },
     "execution_count": 45,
     "metadata": {},
     "output_type": "execute_result"
    }
   ],
   "source": [
    "df_cur['code'][df_cur['code'].duplicated()]"
   ]
  },
  {
   "cell_type": "code",
   "execution_count": 46,
   "id": "503dcf5f-d767-44b5-bc88-e3cd731b1615",
   "metadata": {},
   "outputs": [
    {
     "data": {
      "text/html": [
       "<div>\n",
       "<style scoped>\n",
       "    .dataframe tbody tr th:only-of-type {\n",
       "        vertical-align: middle;\n",
       "    }\n",
       "\n",
       "    .dataframe tbody tr th {\n",
       "        vertical-align: top;\n",
       "    }\n",
       "\n",
       "    .dataframe thead th {\n",
       "        text-align: right;\n",
       "    }\n",
       "</style>\n",
       "<table border=\"1\" class=\"dataframe\">\n",
       "  <thead>\n",
       "    <tr style=\"text-align: right;\">\n",
       "      <th></th>\n",
       "      <th>curr_id</th>\n",
       "      <th>code</th>\n",
       "      <th>basic_unit</th>\n",
       "      <th>curr_code</th>\n",
       "      <th>frac_unit</th>\n",
       "      <th>frac_perbasic</th>\n",
       "    </tr>\n",
       "  </thead>\n",
       "  <tbody>\n",
       "    <tr>\n",
       "      <th>216</th>\n",
       "      <td>217</td>\n",
       "      <td>ZWE</td>\n",
       "      <td>Botswana pula</td>\n",
       "      <td>BWP</td>\n",
       "      <td>Thebe</td>\n",
       "      <td>100.0</td>\n",
       "    </tr>\n",
       "    <tr>\n",
       "      <th>217</th>\n",
       "      <td>218</td>\n",
       "      <td>ZWE</td>\n",
       "      <td>British pound</td>\n",
       "      <td>GBP</td>\n",
       "      <td>Penny</td>\n",
       "      <td>100.0</td>\n",
       "    </tr>\n",
       "    <tr>\n",
       "      <th>218</th>\n",
       "      <td>219</td>\n",
       "      <td>ZWE</td>\n",
       "      <td>Chinese yuan</td>\n",
       "      <td>CNY</td>\n",
       "      <td>Fen</td>\n",
       "      <td>100.0</td>\n",
       "    </tr>\n",
       "    <tr>\n",
       "      <th>219</th>\n",
       "      <td>220</td>\n",
       "      <td>ZWE</td>\n",
       "      <td>Euro</td>\n",
       "      <td>EUR</td>\n",
       "      <td>Cent</td>\n",
       "      <td>100.0</td>\n",
       "    </tr>\n",
       "    <tr>\n",
       "      <th>220</th>\n",
       "      <td>221</td>\n",
       "      <td>ZWE</td>\n",
       "      <td>Indian rupee</td>\n",
       "      <td>INR</td>\n",
       "      <td>Paisa</td>\n",
       "      <td>100.0</td>\n",
       "    </tr>\n",
       "    <tr>\n",
       "      <th>221</th>\n",
       "      <td>222</td>\n",
       "      <td>ZWE</td>\n",
       "      <td>Japanese yen</td>\n",
       "      <td>JPY</td>\n",
       "      <td>Sen</td>\n",
       "      <td>100.0</td>\n",
       "    </tr>\n",
       "    <tr>\n",
       "      <th>222</th>\n",
       "      <td>223</td>\n",
       "      <td>ZWE</td>\n",
       "      <td>South African rand</td>\n",
       "      <td>ZAR</td>\n",
       "      <td>Cent</td>\n",
       "      <td>100.0</td>\n",
       "    </tr>\n",
       "    <tr>\n",
       "      <th>223</th>\n",
       "      <td>224</td>\n",
       "      <td>ZWE</td>\n",
       "      <td>United States dollar</td>\n",
       "      <td>USD</td>\n",
       "      <td>Cent</td>\n",
       "      <td>100.0</td>\n",
       "    </tr>\n",
       "  </tbody>\n",
       "</table>\n",
       "</div>"
      ],
      "text/plain": [
       "     curr_id code            basic_unit curr_code frac_unit  frac_perbasic\n",
       "216      217  ZWE         Botswana pula       BWP     Thebe          100.0\n",
       "217      218  ZWE         British pound       GBP     Penny          100.0\n",
       "218      219  ZWE          Chinese yuan       CNY       Fen          100.0\n",
       "219      220  ZWE                  Euro       EUR      Cent          100.0\n",
       "220      221  ZWE          Indian rupee       INR     Paisa          100.0\n",
       "221      222  ZWE          Japanese yen       JPY       Sen          100.0\n",
       "222      223  ZWE    South African rand       ZAR      Cent          100.0\n",
       "223      224  ZWE  United States dollar       USD      Cent          100.0"
      ]
     },
     "execution_count": 46,
     "metadata": {},
     "output_type": "execute_result"
    }
   ],
   "source": [
    "df_cur[df_cur['code'] == 'ZWE']"
   ]
  },
  {
   "cell_type": "code",
   "execution_count": null,
   "id": "4a81c4b9-eca7-4097-87ac-48c1f8af9c3e",
   "metadata": {},
   "outputs": [],
   "source": []
  },
  {
   "cell_type": "code",
   "execution_count": 57,
   "id": "82971c01-c27f-4c61-9a9c-1623bfae7ff5",
   "metadata": {},
   "outputs": [
    {
     "data": {
      "text/plain": [
       "['economies.csv',\n",
       " 'cities.csv',\n",
       " 'populations.csv',\n",
       " 'languages.csv',\n",
       " 'currencies.csv']"
      ]
     },
     "execution_count": 57,
     "metadata": {},
     "output_type": "execute_result"
    }
   ],
   "source": [
    "['economies.csv', 'cities.csv', 'populations.csv', 'languages.csv', 'currencies.csv']"
   ]
  },
  {
   "cell_type": "code",
   "execution_count": 58,
   "id": "2bac9770-ecec-49e0-b5d5-f23a54429e05",
   "metadata": {},
   "outputs": [
    {
     "data": {
      "text/plain": [
       "Index(['code', 'year', 'income_group', 'gdp_percapita', 'gross_savings',\n",
       "       'inflation_rate', 'total_investment', 'unemployment_rate', 'exports',\n",
       "       'imports'],\n",
       "      dtype='object')"
      ]
     },
     "execution_count": 58,
     "metadata": {},
     "output_type": "execute_result"
    }
   ],
   "source": [
    "df_economies.columns"
   ]
  },
  {
   "cell_type": "code",
   "execution_count": 59,
   "id": "57b4e1e3-8850-46e7-8373-ed1ba82fc6cb",
   "metadata": {},
   "outputs": [
    {
     "data": {
      "text/plain": [
       "Index(['country_code', 'city_proper_pop', 'metroarea_pop', 'urbanarea_pop'], dtype='object')"
      ]
     },
     "execution_count": 59,
     "metadata": {},
     "output_type": "execute_result"
    }
   ],
   "source": [
    "df_cities.columns"
   ]
  },
  {
   "cell_type": "code",
   "execution_count": 60,
   "id": "0f5ac5f0-a3a3-4589-a2ee-1242cc990b08",
   "metadata": {},
   "outputs": [
    {
     "data": {
      "text/plain": [
       "Index(['country_code', 'year', 'fertility_rate', 'life_expectancy', 'size'], dtype='object')"
      ]
     },
     "execution_count": 60,
     "metadata": {},
     "output_type": "execute_result"
    }
   ],
   "source": [
    "df_population.columns"
   ]
  },
  {
   "cell_type": "code",
   "execution_count": 61,
   "id": "40da9998-343f-4474-9e9e-91bac640fc00",
   "metadata": {},
   "outputs": [
    {
     "data": {
      "text/plain": [
       "Index(['code', 'name', 'percent', 'official'], dtype='object')"
      ]
     },
     "execution_count": 61,
     "metadata": {},
     "output_type": "execute_result"
    }
   ],
   "source": [
    "df_lang.columns"
   ]
  },
  {
   "cell_type": "code",
   "execution_count": 63,
   "id": "5bb08fdf-4b8b-45d0-b7dd-8938b1bcc0ba",
   "metadata": {},
   "outputs": [
    {
     "data": {
      "text/plain": [
       "Index(['code', 'basic_unit', 'curr_code', 'frac_unit', 'frac_perbasic'], dtype='object')"
      ]
     },
     "execution_count": 63,
     "metadata": {},
     "output_type": "execute_result"
    }
   ],
   "source": [
    "df_cur.columns"
   ]
  },
  {
   "cell_type": "code",
   "execution_count": 84,
   "id": "d7ace84f-a96e-47ba-8066-a1a11d52e584",
   "metadata": {},
   "outputs": [
    {
     "data": {
      "text/html": [
       "<div>\n",
       "<style scoped>\n",
       "    .dataframe tbody tr th:only-of-type {\n",
       "        vertical-align: middle;\n",
       "    }\n",
       "\n",
       "    .dataframe tbody tr th {\n",
       "        vertical-align: top;\n",
       "    }\n",
       "\n",
       "    .dataframe thead th {\n",
       "        text-align: right;\n",
       "    }\n",
       "</style>\n",
       "<table border=\"1\" class=\"dataframe\">\n",
       "  <thead>\n",
       "    <tr style=\"text-align: right;\">\n",
       "      <th></th>\n",
       "      <th>code</th>\n",
       "      <th>country_name</th>\n",
       "      <th>continent</th>\n",
       "      <th>region</th>\n",
       "      <th>surface_area</th>\n",
       "      <th>indep_year</th>\n",
       "      <th>local_name</th>\n",
       "      <th>gov_form</th>\n",
       "      <th>capital</th>\n",
       "      <th>cap_long</th>\n",
       "      <th>cap_lat</th>\n",
       "    </tr>\n",
       "  </thead>\n",
       "  <tbody>\n",
       "    <tr>\n",
       "      <th>0</th>\n",
       "      <td>AFG</td>\n",
       "      <td>Afghanistan</td>\n",
       "      <td>Asia</td>\n",
       "      <td>Southern and Central Asia</td>\n",
       "      <td>652090.0</td>\n",
       "      <td>1919.0</td>\n",
       "      <td>Afganistan/Afqanestan</td>\n",
       "      <td>Islamic Emirate</td>\n",
       "      <td>Kabul</td>\n",
       "      <td>69.17610</td>\n",
       "      <td>34.5228</td>\n",
       "    </tr>\n",
       "    <tr>\n",
       "      <th>1</th>\n",
       "      <td>NLD</td>\n",
       "      <td>Netherlands</td>\n",
       "      <td>Europe</td>\n",
       "      <td>Western Europe</td>\n",
       "      <td>41526.0</td>\n",
       "      <td>1581.0</td>\n",
       "      <td>Nederland</td>\n",
       "      <td>Constitutional Monarchy</td>\n",
       "      <td>Amsterdam</td>\n",
       "      <td>4.89095</td>\n",
       "      <td>52.3738</td>\n",
       "    </tr>\n",
       "    <tr>\n",
       "      <th>2</th>\n",
       "      <td>ALB</td>\n",
       "      <td>Albania</td>\n",
       "      <td>Europe</td>\n",
       "      <td>Southern Europe</td>\n",
       "      <td>28748.0</td>\n",
       "      <td>1912.0</td>\n",
       "      <td>Shqiperia</td>\n",
       "      <td>Republic</td>\n",
       "      <td>Tirane</td>\n",
       "      <td>19.81720</td>\n",
       "      <td>41.3317</td>\n",
       "    </tr>\n",
       "    <tr>\n",
       "      <th>3</th>\n",
       "      <td>DZA</td>\n",
       "      <td>Algeria</td>\n",
       "      <td>Africa</td>\n",
       "      <td>Northern Africa</td>\n",
       "      <td>2381740.0</td>\n",
       "      <td>1962.0</td>\n",
       "      <td>Al-Jazair/Algerie</td>\n",
       "      <td>Republic</td>\n",
       "      <td>Algiers</td>\n",
       "      <td>3.05097</td>\n",
       "      <td>36.7397</td>\n",
       "    </tr>\n",
       "    <tr>\n",
       "      <th>4</th>\n",
       "      <td>ASM</td>\n",
       "      <td>American Samoa</td>\n",
       "      <td>Oceania</td>\n",
       "      <td>Polynesia</td>\n",
       "      <td>199.0</td>\n",
       "      <td>NaN</td>\n",
       "      <td>Amerika Samoa</td>\n",
       "      <td>US Territory</td>\n",
       "      <td>Pago Pago</td>\n",
       "      <td>-170.69100</td>\n",
       "      <td>-14.2846</td>\n",
       "    </tr>\n",
       "  </tbody>\n",
       "</table>\n",
       "</div>"
      ],
      "text/plain": [
       "  code    country_name continent                     region  surface_area  \\\n",
       "0  AFG     Afghanistan      Asia  Southern and Central Asia      652090.0   \n",
       "1  NLD     Netherlands    Europe             Western Europe       41526.0   \n",
       "2  ALB         Albania    Europe            Southern Europe       28748.0   \n",
       "3  DZA         Algeria    Africa            Northern Africa     2381740.0   \n",
       "4  ASM  American Samoa   Oceania                  Polynesia         199.0   \n",
       "\n",
       "   indep_year             local_name                 gov_form    capital  \\\n",
       "0      1919.0  Afganistan/Afqanestan          Islamic Emirate      Kabul   \n",
       "1      1581.0              Nederland  Constitutional Monarchy  Amsterdam   \n",
       "2      1912.0              Shqiperia                 Republic     Tirane   \n",
       "3      1962.0     Al-Jazair/Algerie                 Republic    Algiers   \n",
       "4         NaN          Amerika Samoa             US Territory  Pago Pago   \n",
       "\n",
       "    cap_long  cap_lat  \n",
       "0   69.17610  34.5228  \n",
       "1    4.89095  52.3738  \n",
       "2   19.81720  41.3317  \n",
       "3    3.05097  36.7397  \n",
       "4 -170.69100 -14.2846  "
      ]
     },
     "execution_count": 84,
     "metadata": {},
     "output_type": "execute_result"
    }
   ],
   "source": [
    "df_countries.head()"
   ]
  },
  {
   "cell_type": "code",
   "execution_count": null,
   "id": "2433a92c-28f2-492d-ae09-a8276b895e39",
   "metadata": {},
   "outputs": [],
   "source": []
  }
 ],
 "metadata": {
  "kernelspec": {
   "display_name": "Python 3 (ipykernel)",
   "language": "python",
   "name": "python3"
  },
  "language_info": {
   "codemirror_mode": {
    "name": "ipython",
    "version": 3
   },
   "file_extension": ".py",
   "mimetype": "text/x-python",
   "name": "python",
   "nbconvert_exporter": "python",
   "pygments_lexer": "ipython3",
   "version": "3.11.5"
  }
 },
 "nbformat": 4,
 "nbformat_minor": 5
}
